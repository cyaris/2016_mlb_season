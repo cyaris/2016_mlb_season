{
 "cells": [
  {
   "cell_type": "markdown",
   "metadata": {},
   "source": [
    "### ** Answering Top-Level Questions with Pandas Dataframes **"
   ]
  },
  {
   "cell_type": "code",
   "execution_count": 1,
   "metadata": {},
   "outputs": [],
   "source": [
    "import numpy as np\n",
    "import pandas as pd"
   ]
  },
  {
   "cell_type": "code",
   "execution_count": 2,
   "metadata": {},
   "outputs": [],
   "source": [
    "df = pd.read_csv('baseball_reference_2016_clean.csv')"
   ]
  },
  {
   "cell_type": "markdown",
   "metadata": {},
   "source": [
    "changing data types"
   ]
  },
  {
   "cell_type": "code",
   "execution_count": 3,
   "metadata": {},
   "outputs": [],
   "source": [
    "df['attendance'] = df['attendance'].astype(float)\n",
    "df['date'] = pd.to_datetime(df['date'])\n",
    "df['temperature'] = df['temperature'].astype(float)\n",
    "df['wind_speed'] = df['wind_speed'].astype(float)"
   ]
  },
  {
   "cell_type": "markdown",
   "metadata": {},
   "source": [
    "removing duplicate index"
   ]
  },
  {
   "cell_type": "code",
   "execution_count": 4,
   "metadata": {},
   "outputs": [],
   "source": [
    "df.drop(['Unnamed: 0'], axis=1, inplace=True)"
   ]
  },
  {
   "cell_type": "markdown",
   "metadata": {},
   "source": [
    "What game had the highest attendance in 2016?"
   ]
  },
  {
   "cell_type": "code",
   "execution_count": 5,
   "metadata": {},
   "outputs": [
    {
     "data": {
      "text/html": [
       "<div>\n",
       "<style scoped>\n",
       "    .dataframe tbody tr th:only-of-type {\n",
       "        vertical-align: middle;\n",
       "    }\n",
       "\n",
       "    .dataframe tbody tr th {\n",
       "        vertical-align: top;\n",
       "    }\n",
       "\n",
       "    .dataframe thead th {\n",
       "        text-align: right;\n",
       "    }\n",
       "</style>\n",
       "<table border=\"1\" class=\"dataframe\">\n",
       "  <thead>\n",
       "    <tr style=\"text-align: right;\">\n",
       "      <th></th>\n",
       "      <th>attendance</th>\n",
       "      <th>away_team</th>\n",
       "      <th>away_team_errors</th>\n",
       "      <th>away_team_hits</th>\n",
       "      <th>away_team_runs</th>\n",
       "      <th>date</th>\n",
       "      <th>field_type</th>\n",
       "      <th>game_type</th>\n",
       "      <th>home_team</th>\n",
       "      <th>home_team_errors</th>\n",
       "      <th>...</th>\n",
       "      <th>temperature</th>\n",
       "      <th>wind_speed</th>\n",
       "      <th>wind_direction</th>\n",
       "      <th>sky</th>\n",
       "      <th>total_runs</th>\n",
       "      <th>game_hours_dec</th>\n",
       "      <th>season</th>\n",
       "      <th>home_team_win</th>\n",
       "      <th>home_team_loss</th>\n",
       "      <th>home_team_outcome</th>\n",
       "    </tr>\n",
       "  </thead>\n",
       "  <tbody>\n",
       "    <tr>\n",
       "      <th>358</th>\n",
       "      <td>54449.0</td>\n",
       "      <td>Chicago Cubs</td>\n",
       "      <td>0</td>\n",
       "      <td>13</td>\n",
       "      <td>8</td>\n",
       "      <td>2016-10-20</td>\n",
       "      <td>on grass</td>\n",
       "      <td>Night Game</td>\n",
       "      <td>Los Angeles Dodgers</td>\n",
       "      <td>1</td>\n",
       "      <td>...</td>\n",
       "      <td>89.0</td>\n",
       "      <td>7.0</td>\n",
       "      <td>out to Centerfield</td>\n",
       "      <td>Night</td>\n",
       "      <td>12</td>\n",
       "      <td>4.266667</td>\n",
       "      <td>post season</td>\n",
       "      <td>0</td>\n",
       "      <td>1</td>\n",
       "      <td>Loss</td>\n",
       "    </tr>\n",
       "    <tr>\n",
       "      <th>360</th>\n",
       "      <td>54449.0</td>\n",
       "      <td>Chicago Cubs</td>\n",
       "      <td>2</td>\n",
       "      <td>13</td>\n",
       "      <td>10</td>\n",
       "      <td>2016-10-19</td>\n",
       "      <td>on grass</td>\n",
       "      <td>Night Game</td>\n",
       "      <td>Los Angeles Dodgers</td>\n",
       "      <td>4</td>\n",
       "      <td>...</td>\n",
       "      <td>89.0</td>\n",
       "      <td>4.0</td>\n",
       "      <td>out to Rightfield</td>\n",
       "      <td>Night</td>\n",
       "      <td>12</td>\n",
       "      <td>3.966667</td>\n",
       "      <td>post season</td>\n",
       "      <td>0</td>\n",
       "      <td>1</td>\n",
       "      <td>Loss</td>\n",
       "    </tr>\n",
       "  </tbody>\n",
       "</table>\n",
       "<p>2 rows × 25 columns</p>\n",
       "</div>"
      ],
      "text/plain": [
       "     attendance     away_team  away_team_errors  away_team_hits  \\\n",
       "358     54449.0  Chicago Cubs                 0              13   \n",
       "360     54449.0  Chicago Cubs                 2              13   \n",
       "\n",
       "     away_team_runs       date field_type   game_type            home_team  \\\n",
       "358               8 2016-10-20   on grass  Night Game  Los Angeles Dodgers   \n",
       "360              10 2016-10-19   on grass  Night Game  Los Angeles Dodgers   \n",
       "\n",
       "     home_team_errors        ...          temperature  wind_speed  \\\n",
       "358                 1        ...                 89.0         7.0   \n",
       "360                 4        ...                 89.0         4.0   \n",
       "\n",
       "          wind_direction    sky total_runs  game_hours_dec       season  \\\n",
       "358   out to Centerfield  Night         12        4.266667  post season   \n",
       "360    out to Rightfield  Night         12        3.966667  post season   \n",
       "\n",
       "    home_team_win home_team_loss  home_team_outcome  \n",
       "358             0              1               Loss  \n",
       "360             0              1               Loss  \n",
       "\n",
       "[2 rows x 25 columns]"
      ]
     },
     "execution_count": 5,
     "metadata": {},
     "output_type": "execute_result"
    }
   ],
   "source": [
    "df[df['attendance'] == df['attendance'].max()]"
   ]
  },
  {
   "cell_type": "markdown",
   "metadata": {},
   "source": [
    "What was the hottest game of the year?"
   ]
  },
  {
   "cell_type": "code",
   "execution_count": 6,
   "metadata": {},
   "outputs": [
    {
     "data": {
      "text/html": [
       "<div>\n",
       "<style scoped>\n",
       "    .dataframe tbody tr th:only-of-type {\n",
       "        vertical-align: middle;\n",
       "    }\n",
       "\n",
       "    .dataframe tbody tr th {\n",
       "        vertical-align: top;\n",
       "    }\n",
       "\n",
       "    .dataframe thead th {\n",
       "        text-align: right;\n",
       "    }\n",
       "</style>\n",
       "<table border=\"1\" class=\"dataframe\">\n",
       "  <thead>\n",
       "    <tr style=\"text-align: right;\">\n",
       "      <th></th>\n",
       "      <th>attendance</th>\n",
       "      <th>away_team</th>\n",
       "      <th>away_team_errors</th>\n",
       "      <th>away_team_hits</th>\n",
       "      <th>away_team_runs</th>\n",
       "      <th>date</th>\n",
       "      <th>field_type</th>\n",
       "      <th>game_type</th>\n",
       "      <th>home_team</th>\n",
       "      <th>home_team_errors</th>\n",
       "      <th>...</th>\n",
       "      <th>temperature</th>\n",
       "      <th>wind_speed</th>\n",
       "      <th>wind_direction</th>\n",
       "      <th>sky</th>\n",
       "      <th>total_runs</th>\n",
       "      <th>game_hours_dec</th>\n",
       "      <th>season</th>\n",
       "      <th>home_team_win</th>\n",
       "      <th>home_team_loss</th>\n",
       "      <th>home_team_outcome</th>\n",
       "    </tr>\n",
       "  </thead>\n",
       "  <tbody>\n",
       "    <tr>\n",
       "      <th>2026</th>\n",
       "      <td>21753.0</td>\n",
       "      <td>San Francisco Giants</td>\n",
       "      <td>0</td>\n",
       "      <td>8</td>\n",
       "      <td>3</td>\n",
       "      <td>2016-05-13</td>\n",
       "      <td>on grass</td>\n",
       "      <td>Night Game</td>\n",
       "      <td>Arizona Diamondbacks</td>\n",
       "      <td>0</td>\n",
       "      <td>...</td>\n",
       "      <td>101.0</td>\n",
       "      <td>9.0</td>\n",
       "      <td>in unknown direction</td>\n",
       "      <td>Sunny</td>\n",
       "      <td>4</td>\n",
       "      <td>3.0</td>\n",
       "      <td>regular season</td>\n",
       "      <td>0</td>\n",
       "      <td>1</td>\n",
       "      <td>Loss</td>\n",
       "    </tr>\n",
       "  </tbody>\n",
       "</table>\n",
       "<p>1 rows × 25 columns</p>\n",
       "</div>"
      ],
      "text/plain": [
       "      attendance             away_team  away_team_errors  away_team_hits  \\\n",
       "2026     21753.0  San Francisco Giants                 0               8   \n",
       "\n",
       "      away_team_runs       date field_type   game_type             home_team  \\\n",
       "2026               3 2016-05-13   on grass  Night Game  Arizona Diamondbacks   \n",
       "\n",
       "      home_team_errors        ...          temperature  wind_speed  \\\n",
       "2026                 0        ...                101.0         9.0   \n",
       "\n",
       "             wind_direction    sky total_runs  game_hours_dec          season  \\\n",
       "2026   in unknown direction  Sunny          4             3.0  regular season   \n",
       "\n",
       "     home_team_win home_team_loss  home_team_outcome  \n",
       "2026             0              1               Loss  \n",
       "\n",
       "[1 rows x 25 columns]"
      ]
     },
     "execution_count": 6,
     "metadata": {},
     "output_type": "execute_result"
    }
   ],
   "source": [
    "df[df['temperature'] == df['temperature'].max()]"
   ]
  },
  {
   "cell_type": "markdown",
   "metadata": {},
   "source": [
    "What was the coldest game of the year?"
   ]
  },
  {
   "cell_type": "code",
   "execution_count": 7,
   "metadata": {},
   "outputs": [
    {
     "data": {
      "text/html": [
       "<div>\n",
       "<style scoped>\n",
       "    .dataframe tbody tr th:only-of-type {\n",
       "        vertical-align: middle;\n",
       "    }\n",
       "\n",
       "    .dataframe tbody tr th {\n",
       "        vertical-align: top;\n",
       "    }\n",
       "\n",
       "    .dataframe thead th {\n",
       "        text-align: right;\n",
       "    }\n",
       "</style>\n",
       "<table border=\"1\" class=\"dataframe\">\n",
       "  <thead>\n",
       "    <tr style=\"text-align: right;\">\n",
       "      <th></th>\n",
       "      <th>attendance</th>\n",
       "      <th>away_team</th>\n",
       "      <th>away_team_errors</th>\n",
       "      <th>away_team_hits</th>\n",
       "      <th>away_team_runs</th>\n",
       "      <th>date</th>\n",
       "      <th>field_type</th>\n",
       "      <th>game_type</th>\n",
       "      <th>home_team</th>\n",
       "      <th>home_team_errors</th>\n",
       "      <th>...</th>\n",
       "      <th>temperature</th>\n",
       "      <th>wind_speed</th>\n",
       "      <th>wind_direction</th>\n",
       "      <th>sky</th>\n",
       "      <th>total_runs</th>\n",
       "      <th>game_hours_dec</th>\n",
       "      <th>season</th>\n",
       "      <th>home_team_win</th>\n",
       "      <th>home_team_loss</th>\n",
       "      <th>home_team_outcome</th>\n",
       "    </tr>\n",
       "  </thead>\n",
       "  <tbody>\n",
       "    <tr>\n",
       "      <th>2409</th>\n",
       "      <td>32419.0</td>\n",
       "      <td>New York Yankees</td>\n",
       "      <td>1</td>\n",
       "      <td>13</td>\n",
       "      <td>8</td>\n",
       "      <td>2016-04-09</td>\n",
       "      <td>on grass</td>\n",
       "      <td>Day Game</td>\n",
       "      <td>Detroit Tigers</td>\n",
       "      <td>1</td>\n",
       "      <td>...</td>\n",
       "      <td>31.0</td>\n",
       "      <td>18.0</td>\n",
       "      <td>from Left to Right</td>\n",
       "      <td>Cloudy</td>\n",
       "      <td>12</td>\n",
       "      <td>3.333333</td>\n",
       "      <td>regular season</td>\n",
       "      <td>0</td>\n",
       "      <td>1</td>\n",
       "      <td>Loss</td>\n",
       "    </tr>\n",
       "  </tbody>\n",
       "</table>\n",
       "<p>1 rows × 25 columns</p>\n",
       "</div>"
      ],
      "text/plain": [
       "      attendance         away_team  away_team_errors  away_team_hits  \\\n",
       "2409     32419.0  New York Yankees                 1              13   \n",
       "\n",
       "      away_team_runs       date field_type game_type       home_team  \\\n",
       "2409               8 2016-04-09   on grass  Day Game  Detroit Tigers   \n",
       "\n",
       "      home_team_errors        ...          temperature  wind_speed  \\\n",
       "2409                 1        ...                 31.0        18.0   \n",
       "\n",
       "           wind_direction     sky total_runs  game_hours_dec          season  \\\n",
       "2409   from Left to Right  Cloudy         12        3.333333  regular season   \n",
       "\n",
       "     home_team_win home_team_loss  home_team_outcome  \n",
       "2409             0              1               Loss  \n",
       "\n",
       "[1 rows x 25 columns]"
      ]
     },
     "execution_count": 7,
     "metadata": {},
     "output_type": "execute_result"
    }
   ],
   "source": [
    "df[df['temperature'] == df['temperature'].min()]"
   ]
  },
  {
   "cell_type": "markdown",
   "metadata": {},
   "source": [
    "What was the longest game of the year?"
   ]
  },
  {
   "cell_type": "code",
   "execution_count": 8,
   "metadata": {},
   "outputs": [
    {
     "data": {
      "text/html": [
       "<div>\n",
       "<style scoped>\n",
       "    .dataframe tbody tr th:only-of-type {\n",
       "        vertical-align: middle;\n",
       "    }\n",
       "\n",
       "    .dataframe tbody tr th {\n",
       "        vertical-align: top;\n",
       "    }\n",
       "\n",
       "    .dataframe thead th {\n",
       "        text-align: right;\n",
       "    }\n",
       "</style>\n",
       "<table border=\"1\" class=\"dataframe\">\n",
       "  <thead>\n",
       "    <tr style=\"text-align: right;\">\n",
       "      <th></th>\n",
       "      <th>attendance</th>\n",
       "      <th>away_team</th>\n",
       "      <th>away_team_errors</th>\n",
       "      <th>away_team_hits</th>\n",
       "      <th>away_team_runs</th>\n",
       "      <th>date</th>\n",
       "      <th>field_type</th>\n",
       "      <th>game_type</th>\n",
       "      <th>home_team</th>\n",
       "      <th>home_team_errors</th>\n",
       "      <th>...</th>\n",
       "      <th>temperature</th>\n",
       "      <th>wind_speed</th>\n",
       "      <th>wind_direction</th>\n",
       "      <th>sky</th>\n",
       "      <th>total_runs</th>\n",
       "      <th>game_hours_dec</th>\n",
       "      <th>season</th>\n",
       "      <th>home_team_win</th>\n",
       "      <th>home_team_loss</th>\n",
       "      <th>home_team_outcome</th>\n",
       "    </tr>\n",
       "  </thead>\n",
       "  <tbody>\n",
       "    <tr>\n",
       "      <th>1445</th>\n",
       "      <td>45825.0</td>\n",
       "      <td>Cleveland Indians</td>\n",
       "      <td>0</td>\n",
       "      <td>15</td>\n",
       "      <td>2</td>\n",
       "      <td>2016-07-01</td>\n",
       "      <td>on turf</td>\n",
       "      <td>Day Game</td>\n",
       "      <td>Toronto Blue Jays</td>\n",
       "      <td>2</td>\n",
       "      <td>...</td>\n",
       "      <td>68.0</td>\n",
       "      <td>0.0</td>\n",
       "      <td>NaN</td>\n",
       "      <td>In Dome</td>\n",
       "      <td>3</td>\n",
       "      <td>6.216667</td>\n",
       "      <td>regular season</td>\n",
       "      <td>0</td>\n",
       "      <td>1</td>\n",
       "      <td>Loss</td>\n",
       "    </tr>\n",
       "  </tbody>\n",
       "</table>\n",
       "<p>1 rows × 25 columns</p>\n",
       "</div>"
      ],
      "text/plain": [
       "      attendance          away_team  away_team_errors  away_team_hits  \\\n",
       "1445     45825.0  Cleveland Indians                 0              15   \n",
       "\n",
       "      away_team_runs       date field_type game_type          home_team  \\\n",
       "1445               2 2016-07-01    on turf  Day Game  Toronto Blue Jays   \n",
       "\n",
       "      home_team_errors        ...          temperature  wind_speed  \\\n",
       "1445                 2        ...                 68.0         0.0   \n",
       "\n",
       "     wind_direction      sky total_runs  game_hours_dec          season  \\\n",
       "1445            NaN  In Dome          3        6.216667  regular season   \n",
       "\n",
       "     home_team_win home_team_loss  home_team_outcome  \n",
       "1445             0              1               Loss  \n",
       "\n",
       "[1 rows x 25 columns]"
      ]
     },
     "execution_count": 8,
     "metadata": {},
     "output_type": "execute_result"
    }
   ],
   "source": [
    "df[df['game_hours_dec'] == df['game_hours_dec'].max()]"
   ]
  },
  {
   "cell_type": "markdown",
   "metadata": {},
   "source": [
    "What was the shortest game of the year?"
   ]
  },
  {
   "cell_type": "code",
   "execution_count": 9,
   "metadata": {},
   "outputs": [
    {
     "data": {
      "text/html": [
       "<div>\n",
       "<style scoped>\n",
       "    .dataframe tbody tr th:only-of-type {\n",
       "        vertical-align: middle;\n",
       "    }\n",
       "\n",
       "    .dataframe tbody tr th {\n",
       "        vertical-align: top;\n",
       "    }\n",
       "\n",
       "    .dataframe thead th {\n",
       "        text-align: right;\n",
       "    }\n",
       "</style>\n",
       "<table border=\"1\" class=\"dataframe\">\n",
       "  <thead>\n",
       "    <tr style=\"text-align: right;\">\n",
       "      <th></th>\n",
       "      <th>attendance</th>\n",
       "      <th>away_team</th>\n",
       "      <th>away_team_errors</th>\n",
       "      <th>away_team_hits</th>\n",
       "      <th>away_team_runs</th>\n",
       "      <th>date</th>\n",
       "      <th>field_type</th>\n",
       "      <th>game_type</th>\n",
       "      <th>home_team</th>\n",
       "      <th>home_team_errors</th>\n",
       "      <th>...</th>\n",
       "      <th>temperature</th>\n",
       "      <th>wind_speed</th>\n",
       "      <th>wind_direction</th>\n",
       "      <th>sky</th>\n",
       "      <th>total_runs</th>\n",
       "      <th>game_hours_dec</th>\n",
       "      <th>season</th>\n",
       "      <th>home_team_win</th>\n",
       "      <th>home_team_loss</th>\n",
       "      <th>home_team_outcome</th>\n",
       "    </tr>\n",
       "  </thead>\n",
       "  <tbody>\n",
       "    <tr>\n",
       "      <th>423</th>\n",
       "      <td>19991.0</td>\n",
       "      <td>Chicago Cubs</td>\n",
       "      <td>1</td>\n",
       "      <td>4</td>\n",
       "      <td>1</td>\n",
       "      <td>2016-09-29</td>\n",
       "      <td>on grass</td>\n",
       "      <td>Night Game</td>\n",
       "      <td>Pittsburgh Pirates</td>\n",
       "      <td>0</td>\n",
       "      <td>...</td>\n",
       "      <td>63.0</td>\n",
       "      <td>12.0</td>\n",
       "      <td>in from Leftfield</td>\n",
       "      <td>Overcast</td>\n",
       "      <td>2</td>\n",
       "      <td>1.25</td>\n",
       "      <td>regular season</td>\n",
       "      <td>0</td>\n",
       "      <td>0</td>\n",
       "      <td>Loss</td>\n",
       "    </tr>\n",
       "  </tbody>\n",
       "</table>\n",
       "<p>1 rows × 25 columns</p>\n",
       "</div>"
      ],
      "text/plain": [
       "     attendance     away_team  away_team_errors  away_team_hits  \\\n",
       "423     19991.0  Chicago Cubs                 1               4   \n",
       "\n",
       "     away_team_runs       date field_type   game_type           home_team  \\\n",
       "423               1 2016-09-29   on grass  Night Game  Pittsburgh Pirates   \n",
       "\n",
       "     home_team_errors        ...          temperature  wind_speed  \\\n",
       "423                 0        ...                 63.0        12.0   \n",
       "\n",
       "         wind_direction       sky total_runs  game_hours_dec          season  \\\n",
       "423   in from Leftfield  Overcast          2            1.25  regular season   \n",
       "\n",
       "    home_team_win home_team_loss  home_team_outcome  \n",
       "423             0              0               Loss  \n",
       "\n",
       "[1 rows x 25 columns]"
      ]
     },
     "execution_count": 9,
     "metadata": {},
     "output_type": "execute_result"
    }
   ],
   "source": [
    "df[df['game_hours_dec'] == df['game_hours_dec'].min()]"
   ]
  },
  {
   "cell_type": "markdown",
   "metadata": {},
   "source": [
    "How many games ended in a tie in the 2016 season?"
   ]
  },
  {
   "cell_type": "code",
   "execution_count": 10,
   "metadata": {},
   "outputs": [
    {
     "data": {
      "text/plain": [
       "1"
      ]
     },
     "execution_count": 10,
     "metadata": {},
     "output_type": "execute_result"
    }
   ],
   "source": [
    "df[df['home_team_runs'] == df['away_team_runs']].count()[1]"
   ]
  },
  {
   "cell_type": "markdown",
   "metadata": {},
   "source": [
    "What was the last game played of the season?"
   ]
  },
  {
   "cell_type": "code",
   "execution_count": 11,
   "metadata": {
    "scrolled": true
   },
   "outputs": [
    {
     "data": {
      "text/html": [
       "<div>\n",
       "<style scoped>\n",
       "    .dataframe tbody tr th:only-of-type {\n",
       "        vertical-align: middle;\n",
       "    }\n",
       "\n",
       "    .dataframe tbody tr th {\n",
       "        vertical-align: top;\n",
       "    }\n",
       "\n",
       "    .dataframe thead th {\n",
       "        text-align: right;\n",
       "    }\n",
       "</style>\n",
       "<table border=\"1\" class=\"dataframe\">\n",
       "  <thead>\n",
       "    <tr style=\"text-align: right;\">\n",
       "      <th></th>\n",
       "      <th>attendance</th>\n",
       "      <th>away_team</th>\n",
       "      <th>away_team_errors</th>\n",
       "      <th>away_team_hits</th>\n",
       "      <th>away_team_runs</th>\n",
       "      <th>date</th>\n",
       "      <th>field_type</th>\n",
       "      <th>game_type</th>\n",
       "      <th>home_team</th>\n",
       "      <th>home_team_errors</th>\n",
       "      <th>...</th>\n",
       "      <th>temperature</th>\n",
       "      <th>wind_speed</th>\n",
       "      <th>wind_direction</th>\n",
       "      <th>sky</th>\n",
       "      <th>total_runs</th>\n",
       "      <th>game_hours_dec</th>\n",
       "      <th>season</th>\n",
       "      <th>home_team_win</th>\n",
       "      <th>home_team_loss</th>\n",
       "      <th>home_team_outcome</th>\n",
       "    </tr>\n",
       "  </thead>\n",
       "  <tbody>\n",
       "    <tr>\n",
       "      <th>350</th>\n",
       "      <td>38104.0</td>\n",
       "      <td>Chicago Cubs</td>\n",
       "      <td>3</td>\n",
       "      <td>13</td>\n",
       "      <td>8</td>\n",
       "      <td>2016-11-02</td>\n",
       "      <td>on grass</td>\n",
       "      <td>Night Game</td>\n",
       "      <td>Cleveland Indians</td>\n",
       "      <td>1</td>\n",
       "      <td>...</td>\n",
       "      <td>69.0</td>\n",
       "      <td>7.0</td>\n",
       "      <td>from Left to Right</td>\n",
       "      <td>Cloudy</td>\n",
       "      <td>15</td>\n",
       "      <td>4.466667</td>\n",
       "      <td>post season</td>\n",
       "      <td>0</td>\n",
       "      <td>1</td>\n",
       "      <td>Loss</td>\n",
       "    </tr>\n",
       "  </tbody>\n",
       "</table>\n",
       "<p>1 rows × 25 columns</p>\n",
       "</div>"
      ],
      "text/plain": [
       "     attendance     away_team  away_team_errors  away_team_hits  \\\n",
       "350     38104.0  Chicago Cubs                 3              13   \n",
       "\n",
       "     away_team_runs       date field_type   game_type          home_team  \\\n",
       "350               8 2016-11-02   on grass  Night Game  Cleveland Indians   \n",
       "\n",
       "     home_team_errors        ...          temperature  wind_speed  \\\n",
       "350                 1        ...                 69.0         7.0   \n",
       "\n",
       "          wind_direction     sky total_runs  game_hours_dec       season  \\\n",
       "350   from Left to Right  Cloudy         15        4.466667  post season   \n",
       "\n",
       "    home_team_win home_team_loss  home_team_outcome  \n",
       "350             0              1               Loss  \n",
       "\n",
       "[1 rows x 25 columns]"
      ]
     },
     "execution_count": 11,
     "metadata": {},
     "output_type": "execute_result"
    }
   ],
   "source": [
    "df[df['date'] == df['date'].dt.date.max()]"
   ]
  },
  {
   "cell_type": "markdown",
   "metadata": {},
   "source": [
    "What game had the highest attendance?"
   ]
  },
  {
   "cell_type": "code",
   "execution_count": 12,
   "metadata": {
    "scrolled": true
   },
   "outputs": [
    {
     "data": {
      "text/html": [
       "<div>\n",
       "<style scoped>\n",
       "    .dataframe tbody tr th:only-of-type {\n",
       "        vertical-align: middle;\n",
       "    }\n",
       "\n",
       "    .dataframe tbody tr th {\n",
       "        vertical-align: top;\n",
       "    }\n",
       "\n",
       "    .dataframe thead th {\n",
       "        text-align: right;\n",
       "    }\n",
       "</style>\n",
       "<table border=\"1\" class=\"dataframe\">\n",
       "  <thead>\n",
       "    <tr style=\"text-align: right;\">\n",
       "      <th></th>\n",
       "      <th>attendance</th>\n",
       "      <th>away_team</th>\n",
       "      <th>away_team_errors</th>\n",
       "      <th>away_team_hits</th>\n",
       "      <th>away_team_runs</th>\n",
       "      <th>date</th>\n",
       "      <th>field_type</th>\n",
       "      <th>game_type</th>\n",
       "      <th>home_team</th>\n",
       "      <th>home_team_errors</th>\n",
       "      <th>...</th>\n",
       "      <th>temperature</th>\n",
       "      <th>wind_speed</th>\n",
       "      <th>wind_direction</th>\n",
       "      <th>sky</th>\n",
       "      <th>total_runs</th>\n",
       "      <th>game_hours_dec</th>\n",
       "      <th>season</th>\n",
       "      <th>home_team_win</th>\n",
       "      <th>home_team_loss</th>\n",
       "      <th>home_team_outcome</th>\n",
       "    </tr>\n",
       "  </thead>\n",
       "  <tbody>\n",
       "    <tr>\n",
       "      <th>358</th>\n",
       "      <td>54449.0</td>\n",
       "      <td>Chicago Cubs</td>\n",
       "      <td>0</td>\n",
       "      <td>13</td>\n",
       "      <td>8</td>\n",
       "      <td>2016-10-20</td>\n",
       "      <td>on grass</td>\n",
       "      <td>Night Game</td>\n",
       "      <td>Los Angeles Dodgers</td>\n",
       "      <td>1</td>\n",
       "      <td>...</td>\n",
       "      <td>89.0</td>\n",
       "      <td>7.0</td>\n",
       "      <td>out to Centerfield</td>\n",
       "      <td>Night</td>\n",
       "      <td>12</td>\n",
       "      <td>4.266667</td>\n",
       "      <td>post season</td>\n",
       "      <td>0</td>\n",
       "      <td>1</td>\n",
       "      <td>Loss</td>\n",
       "    </tr>\n",
       "    <tr>\n",
       "      <th>360</th>\n",
       "      <td>54449.0</td>\n",
       "      <td>Chicago Cubs</td>\n",
       "      <td>2</td>\n",
       "      <td>13</td>\n",
       "      <td>10</td>\n",
       "      <td>2016-10-19</td>\n",
       "      <td>on grass</td>\n",
       "      <td>Night Game</td>\n",
       "      <td>Los Angeles Dodgers</td>\n",
       "      <td>4</td>\n",
       "      <td>...</td>\n",
       "      <td>89.0</td>\n",
       "      <td>4.0</td>\n",
       "      <td>out to Rightfield</td>\n",
       "      <td>Night</td>\n",
       "      <td>12</td>\n",
       "      <td>3.966667</td>\n",
       "      <td>post season</td>\n",
       "      <td>0</td>\n",
       "      <td>1</td>\n",
       "      <td>Loss</td>\n",
       "    </tr>\n",
       "  </tbody>\n",
       "</table>\n",
       "<p>2 rows × 25 columns</p>\n",
       "</div>"
      ],
      "text/plain": [
       "     attendance     away_team  away_team_errors  away_team_hits  \\\n",
       "358     54449.0  Chicago Cubs                 0              13   \n",
       "360     54449.0  Chicago Cubs                 2              13   \n",
       "\n",
       "     away_team_runs       date field_type   game_type            home_team  \\\n",
       "358               8 2016-10-20   on grass  Night Game  Los Angeles Dodgers   \n",
       "360              10 2016-10-19   on grass  Night Game  Los Angeles Dodgers   \n",
       "\n",
       "     home_team_errors        ...          temperature  wind_speed  \\\n",
       "358                 1        ...                 89.0         7.0   \n",
       "360                 4        ...                 89.0         4.0   \n",
       "\n",
       "          wind_direction    sky total_runs  game_hours_dec       season  \\\n",
       "358   out to Centerfield  Night         12        4.266667  post season   \n",
       "360    out to Rightfield  Night         12        3.966667  post season   \n",
       "\n",
       "    home_team_win home_team_loss  home_team_outcome  \n",
       "358             0              1               Loss  \n",
       "360             0              1               Loss  \n",
       "\n",
       "[2 rows x 25 columns]"
      ]
     },
     "execution_count": 12,
     "metadata": {},
     "output_type": "execute_result"
    }
   ],
   "source": [
    "df[df['attendance'] == df['attendance'].max()]"
   ]
  },
  {
   "cell_type": "markdown",
   "metadata": {},
   "source": [
    "What game had the lowest attendance?"
   ]
  },
  {
   "cell_type": "code",
   "execution_count": 13,
   "metadata": {},
   "outputs": [
    {
     "data": {
      "text/html": [
       "<div>\n",
       "<style scoped>\n",
       "    .dataframe tbody tr th:only-of-type {\n",
       "        vertical-align: middle;\n",
       "    }\n",
       "\n",
       "    .dataframe tbody tr th {\n",
       "        vertical-align: top;\n",
       "    }\n",
       "\n",
       "    .dataframe thead th {\n",
       "        text-align: right;\n",
       "    }\n",
       "</style>\n",
       "<table border=\"1\" class=\"dataframe\">\n",
       "  <thead>\n",
       "    <tr style=\"text-align: right;\">\n",
       "      <th></th>\n",
       "      <th>attendance</th>\n",
       "      <th>away_team</th>\n",
       "      <th>away_team_errors</th>\n",
       "      <th>away_team_hits</th>\n",
       "      <th>away_team_runs</th>\n",
       "      <th>date</th>\n",
       "      <th>field_type</th>\n",
       "      <th>game_type</th>\n",
       "      <th>home_team</th>\n",
       "      <th>home_team_errors</th>\n",
       "      <th>...</th>\n",
       "      <th>temperature</th>\n",
       "      <th>wind_speed</th>\n",
       "      <th>wind_direction</th>\n",
       "      <th>sky</th>\n",
       "      <th>total_runs</th>\n",
       "      <th>game_hours_dec</th>\n",
       "      <th>season</th>\n",
       "      <th>home_team_win</th>\n",
       "      <th>home_team_loss</th>\n",
       "      <th>home_team_outcome</th>\n",
       "    </tr>\n",
       "  </thead>\n",
       "  <tbody>\n",
       "    <tr>\n",
       "      <th>2130</th>\n",
       "      <td>8766.0</td>\n",
       "      <td>Detroit Tigers</td>\n",
       "      <td>0</td>\n",
       "      <td>5</td>\n",
       "      <td>0</td>\n",
       "      <td>2016-05-04</td>\n",
       "      <td>on grass</td>\n",
       "      <td>Night Game</td>\n",
       "      <td>Cleveland Indians</td>\n",
       "      <td>0</td>\n",
       "      <td>...</td>\n",
       "      <td>54.0</td>\n",
       "      <td>11.0</td>\n",
       "      <td>from Left to Right</td>\n",
       "      <td>Overcast</td>\n",
       "      <td>4</td>\n",
       "      <td>2.316667</td>\n",
       "      <td>regular season</td>\n",
       "      <td>1</td>\n",
       "      <td>0</td>\n",
       "      <td>Win</td>\n",
       "    </tr>\n",
       "  </tbody>\n",
       "</table>\n",
       "<p>1 rows × 25 columns</p>\n",
       "</div>"
      ],
      "text/plain": [
       "      attendance       away_team  away_team_errors  away_team_hits  \\\n",
       "2130      8766.0  Detroit Tigers                 0               5   \n",
       "\n",
       "      away_team_runs       date field_type   game_type          home_team  \\\n",
       "2130               0 2016-05-04   on grass  Night Game  Cleveland Indians   \n",
       "\n",
       "      home_team_errors        ...          temperature  wind_speed  \\\n",
       "2130                 0        ...                 54.0        11.0   \n",
       "\n",
       "           wind_direction       sky total_runs  game_hours_dec  \\\n",
       "2130   from Left to Right  Overcast          4        2.316667   \n",
       "\n",
       "              season home_team_win home_team_loss  home_team_outcome  \n",
       "2130  regular season             1              0                Win  \n",
       "\n",
       "[1 rows x 25 columns]"
      ]
     },
     "execution_count": 13,
     "metadata": {},
     "output_type": "execute_result"
    }
   ],
   "source": [
    "df[df['attendance'] == df['attendance'].min()]"
   ]
  },
  {
   "cell_type": "markdown",
   "metadata": {},
   "source": [
    "What was the windiest game of the year?"
   ]
  },
  {
   "cell_type": "code",
   "execution_count": 14,
   "metadata": {
    "scrolled": true
   },
   "outputs": [
    {
     "data": {
      "text/html": [
       "<div>\n",
       "<style scoped>\n",
       "    .dataframe tbody tr th:only-of-type {\n",
       "        vertical-align: middle;\n",
       "    }\n",
       "\n",
       "    .dataframe tbody tr th {\n",
       "        vertical-align: top;\n",
       "    }\n",
       "\n",
       "    .dataframe thead th {\n",
       "        text-align: right;\n",
       "    }\n",
       "</style>\n",
       "<table border=\"1\" class=\"dataframe\">\n",
       "  <thead>\n",
       "    <tr style=\"text-align: right;\">\n",
       "      <th></th>\n",
       "      <th>attendance</th>\n",
       "      <th>away_team</th>\n",
       "      <th>away_team_errors</th>\n",
       "      <th>away_team_hits</th>\n",
       "      <th>away_team_runs</th>\n",
       "      <th>date</th>\n",
       "      <th>field_type</th>\n",
       "      <th>game_type</th>\n",
       "      <th>home_team</th>\n",
       "      <th>home_team_errors</th>\n",
       "      <th>...</th>\n",
       "      <th>temperature</th>\n",
       "      <th>wind_speed</th>\n",
       "      <th>wind_direction</th>\n",
       "      <th>sky</th>\n",
       "      <th>total_runs</th>\n",
       "      <th>game_hours_dec</th>\n",
       "      <th>season</th>\n",
       "      <th>home_team_win</th>\n",
       "      <th>home_team_loss</th>\n",
       "      <th>home_team_outcome</th>\n",
       "    </tr>\n",
       "  </thead>\n",
       "  <tbody>\n",
       "    <tr>\n",
       "      <th>1655</th>\n",
       "      <td>41543.0</td>\n",
       "      <td>Milwaukee Brewers</td>\n",
       "      <td>1</td>\n",
       "      <td>11</td>\n",
       "      <td>5</td>\n",
       "      <td>2016-06-13</td>\n",
       "      <td>on grass</td>\n",
       "      <td>Night Game</td>\n",
       "      <td>San Francisco Giants</td>\n",
       "      <td>0</td>\n",
       "      <td>...</td>\n",
       "      <td>58.0</td>\n",
       "      <td>25.0</td>\n",
       "      <td>out to Centerfield</td>\n",
       "      <td>Cloudy</td>\n",
       "      <td>16</td>\n",
       "      <td>3.633333</td>\n",
       "      <td>regular season</td>\n",
       "      <td>1</td>\n",
       "      <td>0</td>\n",
       "      <td>Win</td>\n",
       "    </tr>\n",
       "    <tr>\n",
       "      <th>2005</th>\n",
       "      <td>35736.0</td>\n",
       "      <td>Houston Astros</td>\n",
       "      <td>2</td>\n",
       "      <td>8</td>\n",
       "      <td>9</td>\n",
       "      <td>2016-05-15</td>\n",
       "      <td>on grass</td>\n",
       "      <td>Day Game</td>\n",
       "      <td>Boston Red Sox</td>\n",
       "      <td>3</td>\n",
       "      <td>...</td>\n",
       "      <td>58.0</td>\n",
       "      <td>25.0</td>\n",
       "      <td>out to Rightfield</td>\n",
       "      <td>Cloudy</td>\n",
       "      <td>19</td>\n",
       "      <td>3.666667</td>\n",
       "      <td>regular season</td>\n",
       "      <td>1</td>\n",
       "      <td>0</td>\n",
       "      <td>Win</td>\n",
       "    </tr>\n",
       "  </tbody>\n",
       "</table>\n",
       "<p>2 rows × 25 columns</p>\n",
       "</div>"
      ],
      "text/plain": [
       "      attendance          away_team  away_team_errors  away_team_hits  \\\n",
       "1655     41543.0  Milwaukee Brewers                 1              11   \n",
       "2005     35736.0     Houston Astros                 2               8   \n",
       "\n",
       "      away_team_runs       date field_type   game_type             home_team  \\\n",
       "1655               5 2016-06-13   on grass  Night Game  San Francisco Giants   \n",
       "2005               9 2016-05-15   on grass    Day Game        Boston Red Sox   \n",
       "\n",
       "      home_team_errors        ...          temperature  wind_speed  \\\n",
       "1655                 0        ...                 58.0        25.0   \n",
       "2005                 3        ...                 58.0        25.0   \n",
       "\n",
       "           wind_direction     sky total_runs  game_hours_dec          season  \\\n",
       "1655   out to Centerfield  Cloudy         16        3.633333  regular season   \n",
       "2005    out to Rightfield  Cloudy         19        3.666667  regular season   \n",
       "\n",
       "     home_team_win home_team_loss  home_team_outcome  \n",
       "1655             1              0                Win  \n",
       "2005             1              0                Win  \n",
       "\n",
       "[2 rows x 25 columns]"
      ]
     },
     "execution_count": 14,
     "metadata": {},
     "output_type": "execute_result"
    }
   ],
   "source": [
    "df[df['wind_speed'] == df['wind_speed'].max()]"
   ]
  },
  {
   "cell_type": "markdown",
   "metadata": {},
   "source": [
    "What was the highest scoring game of the year?"
   ]
  },
  {
   "cell_type": "code",
   "execution_count": 15,
   "metadata": {
    "scrolled": true
   },
   "outputs": [
    {
     "data": {
      "text/html": [
       "<div>\n",
       "<style scoped>\n",
       "    .dataframe tbody tr th:only-of-type {\n",
       "        vertical-align: middle;\n",
       "    }\n",
       "\n",
       "    .dataframe tbody tr th {\n",
       "        vertical-align: top;\n",
       "    }\n",
       "\n",
       "    .dataframe thead th {\n",
       "        text-align: right;\n",
       "    }\n",
       "</style>\n",
       "<table border=\"1\" class=\"dataframe\">\n",
       "  <thead>\n",
       "    <tr style=\"text-align: right;\">\n",
       "      <th></th>\n",
       "      <th>attendance</th>\n",
       "      <th>away_team</th>\n",
       "      <th>away_team_errors</th>\n",
       "      <th>away_team_hits</th>\n",
       "      <th>away_team_runs</th>\n",
       "      <th>date</th>\n",
       "      <th>field_type</th>\n",
       "      <th>game_type</th>\n",
       "      <th>home_team</th>\n",
       "      <th>home_team_errors</th>\n",
       "      <th>...</th>\n",
       "      <th>temperature</th>\n",
       "      <th>wind_speed</th>\n",
       "      <th>wind_direction</th>\n",
       "      <th>sky</th>\n",
       "      <th>total_runs</th>\n",
       "      <th>game_hours_dec</th>\n",
       "      <th>season</th>\n",
       "      <th>home_team_win</th>\n",
       "      <th>home_team_loss</th>\n",
       "      <th>home_team_outcome</th>\n",
       "    </tr>\n",
       "  </thead>\n",
       "  <tbody>\n",
       "    <tr>\n",
       "      <th>1788</th>\n",
       "      <td>22588.0</td>\n",
       "      <td>Seattle Mariners</td>\n",
       "      <td>1</td>\n",
       "      <td>16</td>\n",
       "      <td>16</td>\n",
       "      <td>2016-06-02</td>\n",
       "      <td>on grass</td>\n",
       "      <td>Night Game</td>\n",
       "      <td>San Diego Padres</td>\n",
       "      <td>1</td>\n",
       "      <td>...</td>\n",
       "      <td>76.0</td>\n",
       "      <td>10.0</td>\n",
       "      <td>out to Rightfield</td>\n",
       "      <td>Sunny</td>\n",
       "      <td>29</td>\n",
       "      <td>3.833333</td>\n",
       "      <td>regular season</td>\n",
       "      <td>0</td>\n",
       "      <td>1</td>\n",
       "      <td>Loss</td>\n",
       "    </tr>\n",
       "  </tbody>\n",
       "</table>\n",
       "<p>1 rows × 25 columns</p>\n",
       "</div>"
      ],
      "text/plain": [
       "      attendance         away_team  away_team_errors  away_team_hits  \\\n",
       "1788     22588.0  Seattle Mariners                 1              16   \n",
       "\n",
       "      away_team_runs       date field_type   game_type         home_team  \\\n",
       "1788              16 2016-06-02   on grass  Night Game  San Diego Padres   \n",
       "\n",
       "      home_team_errors        ...          temperature  wind_speed  \\\n",
       "1788                 1        ...                 76.0        10.0   \n",
       "\n",
       "          wind_direction    sky total_runs  game_hours_dec          season  \\\n",
       "1788   out to Rightfield  Sunny         29        3.833333  regular season   \n",
       "\n",
       "     home_team_win home_team_loss  home_team_outcome  \n",
       "1788             0              1               Loss  \n",
       "\n",
       "[1 rows x 25 columns]"
      ]
     },
     "execution_count": 15,
     "metadata": {},
     "output_type": "execute_result"
    }
   ],
   "source": [
    "df[df['away_team_runs'] + df['home_team_runs'] == 29]"
   ]
  },
  {
   "cell_type": "markdown",
   "metadata": {},
   "source": [
    "What game had the most errors?"
   ]
  },
  {
   "cell_type": "code",
   "execution_count": 16,
   "metadata": {},
   "outputs": [
    {
     "data": {
      "text/html": [
       "<div>\n",
       "<style scoped>\n",
       "    .dataframe tbody tr th:only-of-type {\n",
       "        vertical-align: middle;\n",
       "    }\n",
       "\n",
       "    .dataframe tbody tr th {\n",
       "        vertical-align: top;\n",
       "    }\n",
       "\n",
       "    .dataframe thead th {\n",
       "        text-align: right;\n",
       "    }\n",
       "</style>\n",
       "<table border=\"1\" class=\"dataframe\">\n",
       "  <thead>\n",
       "    <tr style=\"text-align: right;\">\n",
       "      <th></th>\n",
       "      <th>attendance</th>\n",
       "      <th>away_team</th>\n",
       "      <th>away_team_errors</th>\n",
       "      <th>away_team_hits</th>\n",
       "      <th>away_team_runs</th>\n",
       "      <th>date</th>\n",
       "      <th>field_type</th>\n",
       "      <th>game_type</th>\n",
       "      <th>home_team</th>\n",
       "      <th>home_team_errors</th>\n",
       "      <th>...</th>\n",
       "      <th>wind_speed</th>\n",
       "      <th>wind_direction</th>\n",
       "      <th>sky</th>\n",
       "      <th>total_runs</th>\n",
       "      <th>game_hours_dec</th>\n",
       "      <th>season</th>\n",
       "      <th>home_team_win</th>\n",
       "      <th>home_team_loss</th>\n",
       "      <th>home_team_outcome</th>\n",
       "      <th>total_errors</th>\n",
       "    </tr>\n",
       "  </thead>\n",
       "  <tbody>\n",
       "    <tr>\n",
       "      <th>1412</th>\n",
       "      <td>30955.0</td>\n",
       "      <td>New York Yankees</td>\n",
       "      <td>3</td>\n",
       "      <td>8</td>\n",
       "      <td>2</td>\n",
       "      <td>2016-07-04</td>\n",
       "      <td>on grass</td>\n",
       "      <td>Day Game</td>\n",
       "      <td>Chicago White Sox</td>\n",
       "      <td>4</td>\n",
       "      <td>...</td>\n",
       "      <td>3.0</td>\n",
       "      <td>from Right to Left</td>\n",
       "      <td>Unknown</td>\n",
       "      <td>10</td>\n",
       "      <td>3.1</td>\n",
       "      <td>regular season</td>\n",
       "      <td>1</td>\n",
       "      <td>0</td>\n",
       "      <td>Win</td>\n",
       "      <td>7</td>\n",
       "    </tr>\n",
       "  </tbody>\n",
       "</table>\n",
       "<p>1 rows × 26 columns</p>\n",
       "</div>"
      ],
      "text/plain": [
       "      attendance         away_team  away_team_errors  away_team_hits  \\\n",
       "1412     30955.0  New York Yankees                 3               8   \n",
       "\n",
       "      away_team_runs       date field_type game_type          home_team  \\\n",
       "1412               2 2016-07-04   on grass  Day Game  Chicago White Sox   \n",
       "\n",
       "      home_team_errors      ...       wind_speed       wind_direction  \\\n",
       "1412                 4      ...              3.0   from Right to Left   \n",
       "\n",
       "          sky total_runs game_hours_dec          season  home_team_win  \\\n",
       "1412  Unknown         10            3.1  regular season              1   \n",
       "\n",
       "     home_team_loss home_team_outcome  total_errors  \n",
       "1412              0               Win             7  \n",
       "\n",
       "[1 rows x 26 columns]"
      ]
     },
     "execution_count": 16,
     "metadata": {},
     "output_type": "execute_result"
    }
   ],
   "source": [
    "df['total_errors'] = df['away_team_errors'] + df['home_team_errors']\n",
    "df[df['total_errors'] == df['total_errors'].max()]"
   ]
  },
  {
   "cell_type": "markdown",
   "metadata": {},
   "source": [
    "What game had the most runs?"
   ]
  },
  {
   "cell_type": "code",
   "execution_count": 17,
   "metadata": {},
   "outputs": [
    {
     "data": {
      "text/html": [
       "<div>\n",
       "<style scoped>\n",
       "    .dataframe tbody tr th:only-of-type {\n",
       "        vertical-align: middle;\n",
       "    }\n",
       "\n",
       "    .dataframe tbody tr th {\n",
       "        vertical-align: top;\n",
       "    }\n",
       "\n",
       "    .dataframe thead th {\n",
       "        text-align: right;\n",
       "    }\n",
       "</style>\n",
       "<table border=\"1\" class=\"dataframe\">\n",
       "  <thead>\n",
       "    <tr style=\"text-align: right;\">\n",
       "      <th></th>\n",
       "      <th>attendance</th>\n",
       "      <th>away_team</th>\n",
       "      <th>away_team_errors</th>\n",
       "      <th>away_team_hits</th>\n",
       "      <th>away_team_runs</th>\n",
       "      <th>date</th>\n",
       "      <th>field_type</th>\n",
       "      <th>game_type</th>\n",
       "      <th>home_team</th>\n",
       "      <th>home_team_errors</th>\n",
       "      <th>...</th>\n",
       "      <th>wind_speed</th>\n",
       "      <th>wind_direction</th>\n",
       "      <th>sky</th>\n",
       "      <th>total_runs</th>\n",
       "      <th>game_hours_dec</th>\n",
       "      <th>season</th>\n",
       "      <th>home_team_win</th>\n",
       "      <th>home_team_loss</th>\n",
       "      <th>home_team_outcome</th>\n",
       "      <th>total_errors</th>\n",
       "    </tr>\n",
       "  </thead>\n",
       "  <tbody>\n",
       "    <tr>\n",
       "      <th>1788</th>\n",
       "      <td>22588.0</td>\n",
       "      <td>Seattle Mariners</td>\n",
       "      <td>1</td>\n",
       "      <td>16</td>\n",
       "      <td>16</td>\n",
       "      <td>2016-06-02</td>\n",
       "      <td>on grass</td>\n",
       "      <td>Night Game</td>\n",
       "      <td>San Diego Padres</td>\n",
       "      <td>1</td>\n",
       "      <td>...</td>\n",
       "      <td>10.0</td>\n",
       "      <td>out to Rightfield</td>\n",
       "      <td>Sunny</td>\n",
       "      <td>29</td>\n",
       "      <td>3.833333</td>\n",
       "      <td>regular season</td>\n",
       "      <td>0</td>\n",
       "      <td>1</td>\n",
       "      <td>Loss</td>\n",
       "      <td>2</td>\n",
       "    </tr>\n",
       "  </tbody>\n",
       "</table>\n",
       "<p>1 rows × 26 columns</p>\n",
       "</div>"
      ],
      "text/plain": [
       "      attendance         away_team  away_team_errors  away_team_hits  \\\n",
       "1788     22588.0  Seattle Mariners                 1              16   \n",
       "\n",
       "      away_team_runs       date field_type   game_type         home_team  \\\n",
       "1788              16 2016-06-02   on grass  Night Game  San Diego Padres   \n",
       "\n",
       "      home_team_errors      ...       wind_speed      wind_direction    sky  \\\n",
       "1788                 1      ...             10.0   out to Rightfield  Sunny   \n",
       "\n",
       "     total_runs game_hours_dec          season  home_team_win home_team_loss  \\\n",
       "1788         29       3.833333  regular season              0              1   \n",
       "\n",
       "     home_team_outcome  total_errors  \n",
       "1788              Loss             2  \n",
       "\n",
       "[1 rows x 26 columns]"
      ]
     },
     "execution_count": 17,
     "metadata": {},
     "output_type": "execute_result"
    }
   ],
   "source": [
    "df[df['total_runs'] == df['total_runs'].max()]"
   ]
  },
  {
   "cell_type": "markdown",
   "metadata": {},
   "source": [
    "How many games played by each team are in this dataset?"
   ]
  },
  {
   "cell_type": "code",
   "execution_count": 18,
   "metadata": {},
   "outputs": [
    {
     "data": {
      "text/plain": [
       "Chicago Cubs                     179\n",
       "Los Angeles Dodgers              176\n",
       "Cleveland Indians                176\n",
       "Toronto Blue Jays                174\n",
       "San Francisco Giants             173\n",
       "Boston Red Sox                   172\n",
       "Washington Nationals             172\n",
       "Baltimore Orioles                171\n",
       "Texas Rangers                    171\n",
       "Tampa Bay Rays                   170\n",
       "Houston Astros                   170\n",
       "New York Mets                    170\n",
       "Cincinnati Reds                  170\n",
       "Pittsburgh Pirates               170\n",
       "Colorado Rockies                 170\n",
       "Minnesota Twins                  170\n",
       "Arizona Diamondbacks             170\n",
       "Philadelphia Phillies            170\n",
       "Miami Marlins                    170\n",
       "San Diego Padres                 170\n",
       "Kansas City Royals               170\n",
       "St. Louis Cardinals              170\n",
       "Seattle Mariners                 170\n",
       "Oakland Athletics                170\n",
       "Milwaukee Brewers                170\n",
       "Los Angeles Angels of Anaheim    170\n",
       "Detroit Tigers                   170\n",
       "New York Yankees                 170\n",
       "Chicago White Sox                170\n",
       "Atlanta Braves                   169\n",
       "Name: away_team, dtype: int64"
      ]
     },
     "execution_count": 18,
     "metadata": {},
     "output_type": "execute_result"
    }
   ],
   "source": [
    "df['away_team'].value_counts() + df['home_team'].value_counts()[1]"
   ]
  },
  {
   "cell_type": "markdown",
   "metadata": {},
   "source": [
    "Which team won the most games in 2016?\n",
    "\n",
    "*create a dataframe for regular season games*"
   ]
  },
  {
   "cell_type": "code",
   "execution_count": 19,
   "metadata": {},
   "outputs": [],
   "source": [
    "reg_season = df[df['season'] == 'regular season']"
   ]
  },
  {
   "cell_type": "markdown",
   "metadata": {},
   "source": [
    "*create a dataframe for regular season wins*"
   ]
  },
  {
   "cell_type": "code",
   "execution_count": 20,
   "metadata": {},
   "outputs": [
    {
     "name": "stderr",
     "output_type": "stream",
     "text": [
      "/Users/charlieyaris/.venvs/lpthw/lib/python3.6/site-packages/ipykernel_launcher.py:2: FutureWarning: set_axis currently defaults to operating inplace.\n",
      "This will change in a future version of pandas, use inplace=True to avoid this warning.\n",
      "  \n"
     ]
    },
    {
     "data": {
      "text/html": [
       "<div>\n",
       "<style scoped>\n",
       "    .dataframe tbody tr th:only-of-type {\n",
       "        vertical-align: middle;\n",
       "    }\n",
       "\n",
       "    .dataframe tbody tr th {\n",
       "        vertical-align: top;\n",
       "    }\n",
       "\n",
       "    .dataframe thead th {\n",
       "        text-align: right;\n",
       "    }\n",
       "</style>\n",
       "<table border=\"1\" class=\"dataframe\">\n",
       "  <thead>\n",
       "    <tr style=\"text-align: right;\">\n",
       "      <th></th>\n",
       "      <th>wins</th>\n",
       "    </tr>\n",
       "    <tr>\n",
       "      <th>team</th>\n",
       "      <th></th>\n",
       "    </tr>\n",
       "  </thead>\n",
       "  <tbody>\n",
       "    <tr>\n",
       "      <th>Chicago Cubs</th>\n",
       "      <td>103</td>\n",
       "    </tr>\n",
       "  </tbody>\n",
       "</table>\n",
       "</div>"
      ],
      "text/plain": [
       "              wins\n",
       "team              \n",
       "Chicago Cubs   103"
      ]
     },
     "execution_count": 20,
     "metadata": {},
     "output_type": "execute_result"
    }
   ],
   "source": [
    "reg_wins = pd.DataFrame(reg_season[reg_season['home_team_runs'] > reg_season['away_team_runs']]['home_team'].value_counts() + reg_season[reg_season['home_team_runs'] < reg_season['away_team_runs']]['away_team'].value_counts())\n",
    "reg_wins.set_axis(['wins'], axis='columns')\n",
    "reg_wins.index.name = 'team'\n",
    "reg_wins.sort_values(by = 'wins', ascending=False).head(1)"
   ]
  },
  {
   "cell_type": "markdown",
   "metadata": {},
   "source": [
    "Which team won the most home games in 2016?\n",
    "\n",
    "*create a dataframe for regular season home wins*"
   ]
  },
  {
   "cell_type": "code",
   "execution_count": 21,
   "metadata": {},
   "outputs": [
    {
     "name": "stderr",
     "output_type": "stream",
     "text": [
      "/Users/charlieyaris/.venvs/lpthw/lib/python3.6/site-packages/ipykernel_launcher.py:2: FutureWarning: set_axis currently defaults to operating inplace.\n",
      "This will change in a future version of pandas, use inplace=True to avoid this warning.\n",
      "  \n"
     ]
    },
    {
     "data": {
      "text/html": [
       "<div>\n",
       "<style scoped>\n",
       "    .dataframe tbody tr th:only-of-type {\n",
       "        vertical-align: middle;\n",
       "    }\n",
       "\n",
       "    .dataframe tbody tr th {\n",
       "        vertical-align: top;\n",
       "    }\n",
       "\n",
       "    .dataframe thead th {\n",
       "        text-align: right;\n",
       "    }\n",
       "</style>\n",
       "<table border=\"1\" class=\"dataframe\">\n",
       "  <thead>\n",
       "    <tr style=\"text-align: right;\">\n",
       "      <th></th>\n",
       "      <th>home_wins</th>\n",
       "    </tr>\n",
       "    <tr>\n",
       "      <th>team</th>\n",
       "      <th></th>\n",
       "    </tr>\n",
       "  </thead>\n",
       "  <tbody>\n",
       "    <tr>\n",
       "      <th>Chicago Cubs</th>\n",
       "      <td>57</td>\n",
       "    </tr>\n",
       "  </tbody>\n",
       "</table>\n",
       "</div>"
      ],
      "text/plain": [
       "              home_wins\n",
       "team                   \n",
       "Chicago Cubs         57"
      ]
     },
     "execution_count": 21,
     "metadata": {},
     "output_type": "execute_result"
    }
   ],
   "source": [
    "reg_home_wins = pd.DataFrame(reg_season[reg_season['home_team_runs'] > reg_season['away_team_runs']]['home_team'].value_counts())\n",
    "reg_home_wins.set_axis(['home_wins'], axis='columns')\n",
    "reg_home_wins.index.name = 'team'\n",
    "reg_home_wins.sort_values(by = 'home_wins', ascending=False).head(1)"
   ]
  },
  {
   "cell_type": "markdown",
   "metadata": {},
   "source": [
    "Which team lost the most games in 2016?\n",
    "\n",
    "*create a dataframe for regular season losses*"
   ]
  },
  {
   "cell_type": "code",
   "execution_count": 22,
   "metadata": {},
   "outputs": [
    {
     "name": "stderr",
     "output_type": "stream",
     "text": [
      "/Users/charlieyaris/.venvs/lpthw/lib/python3.6/site-packages/ipykernel_launcher.py:2: FutureWarning: set_axis currently defaults to operating inplace.\n",
      "This will change in a future version of pandas, use inplace=True to avoid this warning.\n",
      "  \n"
     ]
    },
    {
     "data": {
      "text/html": [
       "<div>\n",
       "<style scoped>\n",
       "    .dataframe tbody tr th:only-of-type {\n",
       "        vertical-align: middle;\n",
       "    }\n",
       "\n",
       "    .dataframe tbody tr th {\n",
       "        vertical-align: top;\n",
       "    }\n",
       "\n",
       "    .dataframe thead th {\n",
       "        text-align: right;\n",
       "    }\n",
       "</style>\n",
       "<table border=\"1\" class=\"dataframe\">\n",
       "  <thead>\n",
       "    <tr style=\"text-align: right;\">\n",
       "      <th></th>\n",
       "      <th>losses</th>\n",
       "    </tr>\n",
       "    <tr>\n",
       "      <th>team</th>\n",
       "      <th></th>\n",
       "    </tr>\n",
       "  </thead>\n",
       "  <tbody>\n",
       "    <tr>\n",
       "      <th>Minnesota Twins</th>\n",
       "      <td>103</td>\n",
       "    </tr>\n",
       "  </tbody>\n",
       "</table>\n",
       "</div>"
      ],
      "text/plain": [
       "                 losses\n",
       "team                   \n",
       "Minnesota Twins     103"
      ]
     },
     "execution_count": 22,
     "metadata": {},
     "output_type": "execute_result"
    }
   ],
   "source": [
    "reg_losses = pd.DataFrame(reg_season[reg_season['home_team_runs'] < reg_season['away_team_runs']]['home_team'].value_counts() + reg_season[reg_season['home_team_runs'] > reg_season['away_team_runs']]['away_team'].value_counts())\n",
    "reg_losses.set_axis(['losses'], axis='columns')\n",
    "reg_losses.index.name = 'team'\n",
    "reg_losses.sort_values(by = \"losses\", ascending=False).head(1)"
   ]
  },
  {
   "cell_type": "markdown",
   "metadata": {},
   "source": [
    "Which team lost the most home games in 2016?\n",
    "\n",
    "*create a dataframe for regular season home losses*"
   ]
  },
  {
   "cell_type": "code",
   "execution_count": 23,
   "metadata": {},
   "outputs": [
    {
     "name": "stderr",
     "output_type": "stream",
     "text": [
      "/Users/charlieyaris/.venvs/lpthw/lib/python3.6/site-packages/ipykernel_launcher.py:2: FutureWarning: set_axis currently defaults to operating inplace.\n",
      "This will change in a future version of pandas, use inplace=True to avoid this warning.\n",
      "  \n"
     ]
    },
    {
     "data": {
      "text/html": [
       "<div>\n",
       "<style scoped>\n",
       "    .dataframe tbody tr th:only-of-type {\n",
       "        vertical-align: middle;\n",
       "    }\n",
       "\n",
       "    .dataframe tbody tr th {\n",
       "        vertical-align: top;\n",
       "    }\n",
       "\n",
       "    .dataframe thead th {\n",
       "        text-align: right;\n",
       "    }\n",
       "</style>\n",
       "<table border=\"1\" class=\"dataframe\">\n",
       "  <thead>\n",
       "    <tr style=\"text-align: right;\">\n",
       "      <th></th>\n",
       "      <th>home_losses</th>\n",
       "    </tr>\n",
       "    <tr>\n",
       "      <th>team</th>\n",
       "      <th></th>\n",
       "    </tr>\n",
       "  </thead>\n",
       "  <tbody>\n",
       "    <tr>\n",
       "      <th>Minnesota Twins</th>\n",
       "      <td>51</td>\n",
       "    </tr>\n",
       "  </tbody>\n",
       "</table>\n",
       "</div>"
      ],
      "text/plain": [
       "                 home_losses\n",
       "team                        \n",
       "Minnesota Twins           51"
      ]
     },
     "execution_count": 23,
     "metadata": {},
     "output_type": "execute_result"
    }
   ],
   "source": [
    "reg_home_losses = pd.DataFrame(reg_season[reg_season['home_team_runs'] < reg_season['away_team_runs']]['home_team'].value_counts())\n",
    "reg_home_losses.set_axis(['home_losses'], axis='columns')\n",
    "reg_home_losses.index.name = 'team'\n",
    "reg_home_losses.sort_values(by = 'home_losses', ascending=False).head(1)"
   ]
  }
 ],
 "metadata": {
  "kernelspec": {
   "display_name": "Python 3",
   "language": "python",
   "name": "python3"
  },
  "language_info": {
   "codemirror_mode": {
    "name": "ipython",
    "version": 3
   },
   "file_extension": ".py",
   "mimetype": "text/x-python",
   "name": "python",
   "nbconvert_exporter": "python",
   "pygments_lexer": "ipython3",
   "version": "3.6.4"
  }
 },
 "nbformat": 4,
 "nbformat_minor": 2
}
