{
 "cells": [
  {
   "cell_type": "markdown",
   "metadata": {},
   "source": [
    "### ** Cleaning Data Scraped from Baseball-Reference.com **"
   ]
  },
  {
   "cell_type": "code",
   "execution_count": 1,
   "metadata": {},
   "outputs": [],
   "source": [
    "import numpy as np\n",
    "import pandas as pd"
   ]
  },
  {
   "cell_type": "code",
   "execution_count": 2,
   "metadata": {},
   "outputs": [],
   "source": [
    "df = pd.read_csv('baseball_reference_2016_scrape.csv')"
   ]
  },
  {
   "cell_type": "markdown",
   "metadata": {},
   "source": [
    "stripping extraneous characters from columns in the dataframe"
   ]
  },
  {
   "cell_type": "code",
   "execution_count": 3,
   "metadata": {},
   "outputs": [],
   "source": [
    "df['attendance'] = df['attendance'].apply(lambda x: x.strip(\"]'\"))\n",
    "df['game_duration'] = df['game_duration'].apply(lambda x: x.strip(\": \"))\n",
    "df['venue'] = df['venue'].apply(lambda x: x.strip(\" :\"))\n",
    "df['start_time'] = df['start_time'].apply(lambda x: x.strip(\"Start Time: \"))"
   ]
  },
  {
   "cell_type": "markdown",
   "metadata": {},
   "source": [
    "splitting columns from the dataframe"
   ]
  },
  {
   "cell_type": "code",
   "execution_count": 4,
   "metadata": {},
   "outputs": [],
   "source": [
    "df['attendance'] = df['attendance'].str.replace(' ', '')\n",
    "df['attendance'] = df['attendance'].str.replace(',', '')\n",
    "df['day_of_week'] = df['date'].str.split(',', 3, expand = True)[0]\n",
    "df['game_type_remove'] = df['game_type']\n",
    "df['game_type'] = df['game_type_remove'].str.split(',', 2, expand = True)[0]\n",
    "df['field_type'] = df['game_type_remove'].str.split(',', 2, expand = True)[1]\n",
    "df['field_type'] = df['field_type'].str.replace(' on', 'on')"
   ]
  },
  {
   "cell_type": "markdown",
   "metadata": {},
   "source": [
    "cleaning and adjusting the weather column, currently titled as 'other_info_string'\n"
   ]
  },
  {
   "cell_type": "code",
   "execution_count": 5,
   "metadata": {},
   "outputs": [],
   "source": [
    "df['start_time_weather'] = df['other_info_string'].str.split('</strong> ', 5, expand = True)[5]\n",
    "\n",
    "n = 0\n",
    "for weather in df['start_time_weather']:\n",
    "    if df.loc[n, 'start_time_weather'] == None:\n",
    "        df.loc[n, 'start_time_weather'] = df['other_info_string'] \\\n",
    "        .str.split('</strong> ', 5, expand = True)[4][n]\n",
    "        n += 1\n",
    "    else:\n",
    "        n+= 1\n",
    "        \n",
    "df['temperature'] = df['start_time_weather'].str.split('&', 2, expand = True)[0]\n",
    "df['start_time_weather1'] = df['start_time_weather'].str.split(', ', 3, expand = True)[1]\n",
    "df['start_time_weather2'] = df['start_time_weather'].str.split('Wind ', 3, expand = True)[1]\n",
    "df['start_time_weather3'] = df['start_time_weather2'].str.split('.', 2, expand = True)[0]\n",
    "df['wind_speed'] = df['start_time_weather3'].str.split(', ', 2, expand = True)[0]\n",
    "df['wind_speed'] = df['start_time_weather3'].str.split('mph', 2, expand = True)[0]\n",
    "df['wind_speed'] = df['start_time_weather3'].str.split('mph', 2, expand = True)[0]\n",
    "df['start_time_weather3'] = df['start_time_weather3'].str.split('mph', 2, expand = True)[1]\n",
    "df['wind_direction'] = df['start_time_weather3'].str.split(', ', 2, expand = True)[0]\n",
    "df['sky'] = df['start_time_weather3'].str.split(', ', 2, expand = True)[1]"
   ]
  },
  {
   "cell_type": "markdown",
   "metadata": {},
   "source": [
    "create a column for total runs"
   ]
  },
  {
   "cell_type": "code",
   "execution_count": 6,
   "metadata": {},
   "outputs": [],
   "source": [
    "df['total_runs'] = df['away_team_runs'] + df['home_team_runs']"
   ]
  },
  {
   "cell_type": "markdown",
   "metadata": {},
   "source": [
    "adjusting for missing data that caused misalignment in initial scrape"
   ]
  },
  {
   "cell_type": "code",
   "execution_count": 7,
   "metadata": {},
   "outputs": [],
   "source": [
    "df.loc[220, 'attendance'] = None\n",
    "df.loc[220, 'game_duration'] = '3:18'\n",
    "df.loc[220, 'game_type'] = 'Day Game'\n",
    "df.loc[220, 'field_type'] = 'on grass'\n",
    "df.loc[220, 'venue'] = 'Citi Field'\n",
    "\n",
    "df.loc[1724, 'attendance'] = None\n",
    "df.loc[1724, 'game_duration'] = '2:40'\n",
    "df.loc[1724, 'game_type'] = 'Day Game'\n",
    "df.loc[1724, 'field_type'] = 'on grass'\n",
    "df.loc[1724, 'venue'] = 'PNC Park'\n",
    "\n",
    "df.loc[1912, 'attendance'] = None\n",
    "df.loc[1912, 'game_duration'] = '3:10'\n",
    "df.loc[1912, 'game_type'] = 'Day Game'\n",
    "df.loc[1912, 'field_type'] = 'on grass'\n",
    "df.loc[1912, 'venue'] = 'U.S. Cellular Field'"
   ]
  },
  {
   "cell_type": "markdown",
   "metadata": {},
   "source": [
    "changing data types"
   ]
  },
  {
   "cell_type": "code",
   "execution_count": 8,
   "metadata": {},
   "outputs": [
    {
     "ename": "SyntaxError",
     "evalue": "invalid syntax (<ipython-input-8-08476f761d8d>, line 5)",
     "output_type": "error",
     "traceback": [
      "\u001b[0;36m  File \u001b[0;32m\"<ipython-input-8-08476f761d8d>\"\u001b[0;36m, line \u001b[0;32m5\u001b[0m\n\u001b[0;31m    df['game_hours_dec'] = df['game_duration'] .str.split(':', 2, expand = True)[1].astype(float)/60 +\u001b[0m\n\u001b[0m                                                                                                       ^\u001b[0m\n\u001b[0;31mSyntaxError\u001b[0m\u001b[0;31m:\u001b[0m invalid syntax\n"
     ]
    }
   ],
   "source": [
    "df['attendance'] = df['attendance'].astype(float)\n",
    "df['date'] = pd.to_datetime(df['date'])\n",
    "df['temperature'] = df['temperature'].astype(float)\n",
    "df['wind_speed'] = df['wind_speed'].astype(float)\n",
    "df['game_hours_dec'] = df['game_duration'] \\\n",
    ".str.split(':', 2, expand = True)[1].astype(float)/60 + \n",
    "df['game_duration'].str.split(':', 2, expand = True)[0].astype(float)"
   ]
  },
  {
   "cell_type": "markdown",
   "metadata": {},
   "source": [
    "filling in missing data"
   ]
  },
  {
   "cell_type": "code",
   "execution_count": null,
   "metadata": {},
   "outputs": [],
   "source": [
    "df['sky'] = df['sky'].astype(object).fillna('Unknown')\n",
    "\n",
    "n = 0\n",
    "for wind_direction in df['wind_direction']:\n",
    "    if df.loc[n, 'wind_direction'] == '':\n",
    "        df.loc[n, 'wind_direction'] = ' in unknown direction'\n",
    "        n += 1\n",
    "    elif df.loc[n, 'wind_direction'] == ' ':\n",
    "        df.loc[n, 'wind_direction'] = ' in unknown direction'\n",
    "        n += 1\n",
    "    else:\n",
    "        n+= 1"
   ]
  },
  {
   "cell_type": "markdown",
   "metadata": {},
   "source": [
    "dropping columns from the dataframe that will not be needed"
   ]
  },
  {
   "cell_type": "code",
   "execution_count": null,
   "metadata": {},
   "outputs": [],
   "source": [
    "df.drop(['boxscore_url', 'game_duration',\n",
    "         'game_type_remove', 'other_info_string',\n",
    "         'start_time_weather', 'start_time_weather1',\n",
    "         'start_time_weather2', 'start_time_weather3'],\n",
    "        axis = 1, inplace = True)"
   ]
  },
  {
   "cell_type": "markdown",
   "metadata": {},
   "source": [
    "creating a new field to differentiate between reular season and post season games"
   ]
  },
  {
   "cell_type": "code",
   "execution_count": null,
   "metadata": {},
   "outputs": [],
   "source": [
    "df['season'] = 0\n",
    "n = 0\n",
    "for date in df['date']:\n",
    "    if df.loc[n, 'date'].month == 10 and df['date'][n].day > 2:\n",
    "        df.loc[n, 'season'] = 'post season'\n",
    "        n += 1\n",
    "    elif df.loc[n, 'date'].month == 11:\n",
    "        df.loc[n, 'season'] = 'post season'\n",
    "        n += 1\n",
    "    else:\n",
    "        df.loc[n, 'season'] = 'regular season'\n",
    "        n += 1"
   ]
  },
  {
   "cell_type": "markdown",
   "metadata": {},
   "source": [
    "create a column to count the number of home team wins"
   ]
  },
  {
   "cell_type": "code",
   "execution_count": null,
   "metadata": {},
   "outputs": [],
   "source": [
    "df['home_team_win'] = 0\n",
    "n = 0\n",
    "for win in df['home_team_win']:\n",
    "    if df.loc[n, 'home_team_runs'] > df['away_team_runs'][n]:\n",
    "        df.loc[n, 'home_team_win'] = 1\n",
    "        n += 1\n",
    "    else:\n",
    "        df.loc[n, 'home_team_win'] = 0\n",
    "        n += 1"
   ]
  },
  {
   "cell_type": "markdown",
   "metadata": {},
   "source": [
    "create a column to count the number of home team losses"
   ]
  },
  {
   "cell_type": "code",
   "execution_count": null,
   "metadata": {},
   "outputs": [],
   "source": [
    "df['home_team_loss'] = 0\n",
    "n = 0\n",
    "for win in df['home_team_loss']:\n",
    "    if df.loc[n, 'home_team_runs'] < df['away_team_runs'][n]:\n",
    "        df.loc[n, 'home_team_loss'] = 1\n",
    "        n += 1\n",
    "    else:\n",
    "        df.loc[n, 'home_team_loss'] = 0\n",
    "        n += 1"
   ]
  },
  {
   "cell_type": "markdown",
   "metadata": {},
   "source": [
    "create a column to state a home team win or loss"
   ]
  },
  {
   "cell_type": "code",
   "execution_count": null,
   "metadata": {},
   "outputs": [],
   "source": [
    "df['home_team_outcome'] = 0\n",
    "n = 0\n",
    "for win in df['home_team_outcome']:\n",
    "    if df.loc[n, 'home_team_runs'] > df['away_team_runs'][n]:\n",
    "        df.loc[n, 'home_team_outcome'] = 'Win'\n",
    "        n += 1\n",
    "    else:\n",
    "        df.loc[n, 'home_team_outcome'] = 'Loss'\n",
    "        n += 1"
   ]
  },
  {
   "cell_type": "code",
   "execution_count": null,
   "metadata": {},
   "outputs": [],
   "source": [
    "df.info()"
   ]
  },
  {
   "cell_type": "markdown",
   "metadata": {},
   "source": [
    "export cleaned data to csv"
   ]
  },
  {
   "cell_type": "code",
   "execution_count": null,
   "metadata": {},
   "outputs": [],
   "source": [
    "df.to_csv('baseball_reference_2016_clean.csv')"
   ]
  }
 ],
 "metadata": {
  "kernelspec": {
   "display_name": "Python 3",
   "language": "python",
   "name": "python3"
  },
  "language_info": {
   "codemirror_mode": {
    "name": "ipython",
    "version": 3
   },
   "file_extension": ".py",
   "mimetype": "text/x-python",
   "name": "python",
   "nbconvert_exporter": "python",
   "pygments_lexer": "ipython3",
   "version": "3.6.4"
  }
 },
 "nbformat": 4,
 "nbformat_minor": 2
}
